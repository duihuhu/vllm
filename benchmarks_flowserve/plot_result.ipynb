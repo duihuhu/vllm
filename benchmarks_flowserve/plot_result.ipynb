{
 "cells": [
  {
   "cell_type": "code",
   "execution_count": 1,
   "metadata": {},
   "outputs": [],
   "source": [
    "import matplotlib.pyplot as plt\n",
    "import pandas as pd\n",
    "import os\n",
    "from typing import List, Union"
   ]
  },
  {
   "cell_type": "code",
   "execution_count": 13,
   "metadata": {},
   "outputs": [
    {
     "data": {
      "text/plain": [
       "<Figure size 640x480 with 0 Axes>"
      ]
     },
     "metadata": {},
     "output_type": "display_data"
    }
   ],
   "source": [
    "# Configurable parameters\n",
    "basename = 'end2end_exp_results'\n",
    "dataset = 'LooGLE' # ['ShareGPT', 'LooGLE', 'ReAct']\n",
    "\n",
    "# Derived parameters\n",
    "dirname = f'{basename}/{dataset}'\n",
    "\n",
    "def plot_figure(x_axis: str, y_axis: Union[str, List[str]]):\n",
    "    for file in os.listdir(dirname):\n",
    "        if os.path.isfile(os.path.join(dirname, file)) and '.csv' in file:\n",
    "            df = pd.read_csv(f'{dirname}/{file}')\n",
    "            type = file.split('_')[0] + '_'\n",
    "            plt.plot(df[x_axis], df[y_axis], label = type + df[y_axis].columns)\n",
    "    \n",
    "    plt.xlabel('req/s')\n",
    "    plt.ylabel('time (s)')\n",
    "    plt.legend()\n",
    "    plt.grid(True)\n",
    "    plt.title(' '.join(y_axis[0].split('_')[1:]))   \n",
    "    figure_title = '_'.join(y_axis[0].split('_')[1:])\n",
    "    plt.savefig(f'{dirname}/{figure_title}.png')\n",
    "    plt.clf()\n",
    "    \n",
    "\n",
    "for y_axis in [\n",
    "    ['average_jct', 'p99_jct'], \n",
    "    ['average_ttft', 'p99_ttft'], \n",
    "    ['average_tbt_no_second_token', 'p99_tbt_no_second_token'], \n",
    "    ['average_tbt_with_second_token', 'p99_tbt_with_second_token']\n",
    "]:\n",
    "    plot_figure(\n",
    "        x_axis = 'request_rate',\n",
    "        y_axis = y_axis\n",
    "    )\n",
    "    "
   ]
  },
  {
   "cell_type": "code",
   "execution_count": 7,
   "metadata": {},
   "outputs": [
    {
     "data": {
      "text/plain": [
       "['disagg_layer_256.csv', 'haha.csv', 'xixi.csv']"
      ]
     },
     "execution_count": 7,
     "metadata": {},
     "output_type": "execute_result"
    }
   ],
   "source": [
    "filenames"
   ]
  }
 ],
 "metadata": {
  "kernelspec": {
   "display_name": "myvllm",
   "language": "python",
   "name": "python3"
  },
  "language_info": {
   "codemirror_mode": {
    "name": "ipython",
    "version": 3
   },
   "file_extension": ".py",
   "mimetype": "text/x-python",
   "name": "python",
   "nbconvert_exporter": "python",
   "pygments_lexer": "ipython3",
   "version": "3.11.9"
  }
 },
 "nbformat": 4,
 "nbformat_minor": 2
}
